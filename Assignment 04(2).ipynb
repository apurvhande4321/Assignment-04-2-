{
 "cells": [
  {
   "cell_type": "markdown",
   "id": "23e95e4d",
   "metadata": {},
   "source": [
    "Write a Python program to triple all numbers of a given list of integers. Use Python map.\n",
    "\n",
    "\n",
    "\n",
    "\n"
   ]
  },
  {
   "cell_type": "code",
   "execution_count": null,
   "id": "57fefa4e",
   "metadata": {},
   "outputs": [],
   "source": [
    "z = list(map(int,input('enter the list of integers,').split(' ')))\n",
    "s = list(map(lambda x:x*3,z))\n",
    "print(s)"
   ]
  }
 ],
 "metadata": {
  "kernelspec": {
   "display_name": "Python 3 (ipykernel)",
   "language": "python",
   "name": "python3"
  },
  "language_info": {
   "codemirror_mode": {
    "name": "ipython",
    "version": 3
   },
   "file_extension": ".py",
   "mimetype": "text/x-python",
   "name": "python",
   "nbconvert_exporter": "python",
   "pygments_lexer": "ipython3",
   "version": "3.9.7"
  }
 },
 "nbformat": 4,
 "nbformat_minor": 5
}
